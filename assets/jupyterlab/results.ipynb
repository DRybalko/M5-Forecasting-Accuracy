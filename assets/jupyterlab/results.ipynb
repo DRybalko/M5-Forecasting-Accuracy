{
 "cells": [
  {
   "cell_type": "markdown",
   "metadata": {},
   "source": [
    "### Results"
   ]
  },
  {
   "cell_type": "markdown",
   "metadata": {},
   "source": [
    "| Method |  WRMSSEE  |\n",
    "|------|------|\n",
    "|   Naive  | 1.6541 |\n",
    "| Moving Average | 1.5477 |\n",
    "| Exponential Smoothing | 1.18367 |\n",
    "| Light GBM | 0.6434 |"
   ]
  },
  {
   "cell_type": "markdown",
   "metadata": {},
   "source": [
    "### TODO"
   ]
  },
  {
   "cell_type": "markdown",
   "metadata": {},
   "source": [
    "* Smart feature selection -> train both Light GBM and NN \n",
    "* Feature Engineering\n",
    "* Feature Engineering\n",
    "* HPO for Light GBM\n",
    "* Try Random Forest\n",
    "* Try XGBoost\n",
    "* Try CatBoost\n",
    "* Try winner of M4 competition (see discussion thread for more information)\n",
    "* Ensembling models"
   ]
  },
  {
   "cell_type": "code",
   "execution_count": null,
   "metadata": {},
   "outputs": [],
   "source": []
  }
 ],
 "metadata": {
  "kernelspec": {
   "display_name": "Python 3.6",
   "language": "python",
   "name": "python3"
  },
  "language_info": {
   "codemirror_mode": {
    "name": "ipython",
    "version": 3
   },
   "file_extension": ".py",
   "mimetype": "text/x-python",
   "name": "python",
   "nbconvert_exporter": "python",
   "pygments_lexer": "ipython3",
   "version": "3.6.8"
  }
 },
 "nbformat": 4,
 "nbformat_minor": 4
}
