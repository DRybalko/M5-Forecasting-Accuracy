{
 "cells": [
  {
   "cell_type": "markdown",
   "metadata": {},
   "source": [
    "Adapted from: https://www.kaggle.com/mayer79/m5-forecast-keras-with-categorical-embeddings"
   ]
  },
  {
   "cell_type": "code",
   "execution_count": 1,
   "metadata": {},
   "outputs": [
    {
     "name": "stdout",
     "output_type": "stream",
     "text": [
      "Collecting graphviz\n",
      "  Downloading https://files.pythonhosted.org/packages/f5/74/dbed754c0abd63768d3a7a7b472da35b08ac442cf87d73d5850a6f32391e/graphviz-0.13.2-py2.py3-none-any.whl\n",
      "Installing collected packages: graphviz\n",
      "Successfully installed graphviz-0.13.2\n",
      "Collecting pydot\n",
      "  Downloading https://files.pythonhosted.org/packages/33/d1/b1479a770f66d962f545c2101630ce1d5592d90cb4f083d38862e93d16d2/pydot-1.4.1-py2.py3-none-any.whl\n",
      "Requirement already satisfied: pyparsing>=2.1.4 in /opt/conda/envs/Python-3.6/lib/python3.6/site-packages (from pydot) (2.3.1)\n",
      "Installing collected packages: pydot\n",
      "Successfully installed pydot-1.4.1\n"
     ]
    }
   ],
   "source": [
    "!pip install graphviz\n",
    "!pip install pydot"
   ]
  },
  {
   "cell_type": "code",
   "execution_count": 2,
   "metadata": {},
   "outputs": [],
   "source": [
    "import pandas as pd\n",
    "import gc\n",
    "import matplotlib.pyplot as plt\n",
    "from sklearn.preprocessing import MinMaxScaler\n",
    "from sklearn.preprocessing import OrdinalEncoder"
   ]
  },
  {
   "cell_type": "code",
   "execution_count": 3,
   "metadata": {},
   "outputs": [],
   "source": [
    "data = pd.read_pickle(\"/home/wsuser/work/project_data_assets/data_asset/full_data.pkl\")"
   ]
  },
  {
   "cell_type": "code",
   "execution_count": 4,
   "metadata": {},
   "outputs": [],
   "source": [
    "columns_to_encode = [\"wday\", \"month\", \"year\", \"item_id\", \"dept_id\", \"store_id\"]\n",
    "\n",
    "encoders = {}\n",
    "for column in columns_to_encode:\n",
    "    encoders[column] = OrdinalEncoder()\n",
    "    data[column] = encoders[column].fit_transform(data[[column]]).astype(\"uint16\")"
   ]
  },
  {
   "cell_type": "code",
   "execution_count": 5,
   "metadata": {},
   "outputs": [
    {
     "data": {
      "text/plain": [
       "49"
      ]
     },
     "execution_count": 5,
     "metadata": {},
     "output_type": "execute_result"
    }
   ],
   "source": [
    "train_df = data.loc[data.part == 'train']\n",
    "test_df = data.loc[data.part == 'test1']\n",
    "del data\n",
    "gc.collect()"
   ]
  },
  {
   "cell_type": "code",
   "execution_count": 6,
   "metadata": {},
   "outputs": [],
   "source": [
    "x_val = train_df.loc[(train_df['date'] > '2016-03-27') & (train_df['date'] <= '2016-04-24')]\n",
    "train_df = train_df.loc[train_df['date'] <= '2016-03-27']"
   ]
  },
  {
   "cell_type": "code",
   "execution_count": 7,
   "metadata": {},
   "outputs": [],
   "source": [
    "numerical_features = [\"lag_t28\", \"rolling_mean_t30\", \"price_change_t365\", \"rolling_std_t30\", \"price_change_t1\", \"sell_price\"]"
   ]
  },
  {
   "cell_type": "code",
   "execution_count": 8,
   "metadata": {},
   "outputs": [
    {
     "name": "stderr",
     "output_type": "stream",
     "text": [
      "/opt/conda/envs/Python-3.6/lib/python3.6/site-packages/sklearn/preprocessing/data.py:334: DataConversionWarning: Data with input dtype float16, float64 were all converted to float64 by MinMaxScaler.\n",
      "  return self.partial_fit(X, y)\n"
     ]
    }
   ],
   "source": [
    "train_df[numerical_features] = MinMaxScaler().fit_transform(train_df[numerical_features])\n",
    "train_df.fillna(0, inplace = True)"
   ]
  },
  {
   "cell_type": "code",
   "execution_count": 9,
   "metadata": {},
   "outputs": [],
   "source": [
    "def make_Xy(df, ind=None, return_y = True):\n",
    "    if ind is not None:\n",
    "        df = df[ind]\n",
    "    X = {\"dense1\": df[[\"lag_t28\", \"rolling_mean_t30\", \"price_change_t365\", \"rolling_std_t30\", \"price_change_t1\",\n",
    "                       \"snap_CA\", \"snap_TX\", \"snap_WI\", \"sell_price\"]].to_numpy(dtype=\"float32\"),\n",
    "         \"item_id\": df[[\"item_id\"]].to_numpy(dtype=\"uint8\")}\n",
    "    for i, v in enumerate([\"wday\", \"month\", \"year\", \"event_name_1\", \n",
    "                           \"event_type_1\", \"event_name_2\", \n",
    "                           \"event_type_2\", \"item_id\", \"dept_id\", \"store_id\"]):\n",
    "        X[v] = df[[v]].to_numpy(dtype=\"uint32\")\n",
    "    if return_y:\n",
    "        return X, df.demand.to_numpy(dtype=\"float32\")\n",
    "    else:\n",
    "        return X"
   ]
  },
  {
   "cell_type": "code",
   "execution_count": 10,
   "metadata": {},
   "outputs": [],
   "source": [
    "X_train, y_train = make_Xy(train_df, return_y=True)"
   ]
  },
  {
   "cell_type": "code",
   "execution_count": 11,
   "metadata": {},
   "outputs": [],
   "source": [
    "import tensorflow as tf\n",
    "\n",
    "from tensorflow import keras\n",
    "from tensorflow.keras import layers\n",
    "\n",
    "tf.keras.backend.clear_session()  # For easy reset of notebook state.\n",
    "\n",
    "from tensorflow.keras.layers import Dense, Input, Embedding, Dropout, concatenate, Flatten\n",
    "from tensorflow.keras.models import Model\n",
    "from tensorflow.keras import regularizers"
   ]
  },
  {
   "cell_type": "code",
   "execution_count": 12,
   "metadata": {},
   "outputs": [
    {
     "name": "stdout",
     "output_type": "stream",
     "text": [
      "WARNING:tensorflow:From /opt/conda/envs/Python-3.6/lib/python3.6/site-packages/tensorflow/python/ops/resource_variable_ops.py:435: colocate_with (from tensorflow.python.framework.ops) is deprecated and will be removed in a future version.\n",
      "Instructions for updating:\n",
      "Colocations handled automatically by placer.\n",
      "WARNING:tensorflow:From /opt/conda/envs/Python-3.6/lib/python3.6/site-packages/tensorflow/python/keras/layers/core.py:143: calling dropout (from tensorflow.python.ops.nn_ops) with keep_prob is deprecated and will be removed in a future version.\n",
      "Instructions for updating:\n",
      "Please use `rate` instead of `keep_prob`. Rate should be set to `rate = 1 - keep_prob`.\n"
     ]
    }
   ],
   "source": [
    "# Dense part\n",
    "dense_input = Input(shape=(9, ), name='dense1')\n",
    "dense_branch = Dense(100, activation=\"relu\")(dense_input)\n",
    "#dense_branch = Dense(100, activation=\"relu\")(dense_branch)\n",
    "\n",
    "# Embedded input\n",
    "wday_input = Input(shape=(1,), name='wday')\n",
    "month_input = Input(shape=(1,), name='month')\n",
    "year_input = Input(shape=(1,), name='year')\n",
    "event_name_1_input = Input(shape=(1,), name='event_name_1')\n",
    "event_type_1_input = Input(shape=(1,), name='event_type_1')\n",
    "event_name_2_input = Input(shape=(1,), name='event_name_2')\n",
    "event_type_2_input = Input(shape=(1,), name='event_type_2')\n",
    "item_id_input = Input(shape=(1,), name='item_id')\n",
    "dept_id_input = Input(shape=(1,), name='dept_id')\n",
    "store_id_input = Input(shape=(1,), name='store_id')\n",
    "\n",
    "# Embedding layers\n",
    "wday_emb = Flatten()(Embedding(7, 2)(wday_input))\n",
    "month_emb = Flatten()(Embedding(12, 2)(month_input))\n",
    "year_emb = Flatten()(Embedding(6, 2)(year_input))\n",
    "event_name_1_emb = Flatten()(Embedding(31, 5)(event_name_1_input))\n",
    "event_type_1_emb = Flatten()(Embedding(5, 2)(event_type_1_input))\n",
    "event_name_2_emb = Flatten()(Embedding(5, 2)(event_name_2_input))\n",
    "event_type_2_emb = Flatten()(Embedding(5, 2)(event_type_2_input))\n",
    "item_id_emb = Flatten()(Embedding(3049, 30)(item_id_input))\n",
    "item_id_emb = Dropout(0.3)(item_id_emb)\n",
    "dept_id_emb = Flatten()(Embedding(7, 2)(dept_id_input))\n",
    "store_id_emb = Flatten()(Embedding(10, 2)(store_id_input))\n",
    "\n",
    "x = concatenate([dense_branch, wday_emb, month_emb, year_emb, event_name_1_emb,\n",
    "                event_type_1_emb, event_name_2_emb, event_type_2_emb, item_id_emb, dept_id_emb, store_id_emb])\n",
    "x = Dense(150, activation=\"relu\")(x)\n",
    "x = Dropout(0.1)(x)\n",
    "x = Dense(20, activation=\"relu\")(x)\n",
    "prediction = Dense(1, activation=\"linear\", name='output')(x)\n",
    "\n",
    "#model = Model(inputs={\"dense1\": dense_input, \"wday\": wday_input, \"month\": month_input, \n",
    "#                      \"year\": year_input, \"event_name_1\": event_name_1_input, \"event_type_1\": event_type_1_input, \n",
    "#                      \"item_id\": item_id_input, \"dept_id\": dept_id_input, \"store_id\": store_id_input},\n",
    "#              outputs=prediction)\n",
    "model = Model([dense_input, wday_input, month_input, year_input, event_name_1_input, event_type_1_input, \n",
    "               event_name_2_input, event_type_2_input, item_id_input, dept_id_input, store_id_input], outputs=prediction)"
   ]
  },
  {
   "cell_type": "code",
   "execution_count": 13,
   "metadata": {},
   "outputs": [
    {
     "name": "stdout",
     "output_type": "stream",
     "text": [
      "__________________________________________________________________________________________________\n",
      "Layer (type)                    Output Shape         Param #     Connected to                     \n",
      "==================================================================================================\n",
      "item_id (InputLayer)            (None, 1)            0                                            \n",
      "__________________________________________________________________________________________________\n",
      "wday (InputLayer)               (None, 1)            0                                            \n",
      "__________________________________________________________________________________________________\n",
      "month (InputLayer)              (None, 1)            0                                            \n",
      "__________________________________________________________________________________________________\n",
      "year (InputLayer)               (None, 1)            0                                            \n",
      "__________________________________________________________________________________________________\n",
      "event_name_1 (InputLayer)       (None, 1)            0                                            \n",
      "__________________________________________________________________________________________________\n",
      "event_type_1 (InputLayer)       (None, 1)            0                                            \n",
      "__________________________________________________________________________________________________\n",
      "event_name_2 (InputLayer)       (None, 1)            0                                            \n",
      "__________________________________________________________________________________________________\n",
      "event_type_2 (InputLayer)       (None, 1)            0                                            \n",
      "__________________________________________________________________________________________________\n",
      "embedding_7 (Embedding)         (None, 1, 30)        91470       item_id[0][0]                    \n",
      "__________________________________________________________________________________________________\n",
      "dept_id (InputLayer)            (None, 1)            0                                            \n",
      "__________________________________________________________________________________________________\n",
      "store_id (InputLayer)           (None, 1)            0                                            \n",
      "__________________________________________________________________________________________________\n",
      "dense1 (InputLayer)             (None, 9)            0                                            \n",
      "__________________________________________________________________________________________________\n",
      "embedding (Embedding)           (None, 1, 2)         14          wday[0][0]                       \n",
      "__________________________________________________________________________________________________\n",
      "embedding_1 (Embedding)         (None, 1, 2)         24          month[0][0]                      \n",
      "__________________________________________________________________________________________________\n",
      "embedding_2 (Embedding)         (None, 1, 2)         12          year[0][0]                       \n",
      "__________________________________________________________________________________________________\n",
      "embedding_3 (Embedding)         (None, 1, 5)         155         event_name_1[0][0]               \n",
      "__________________________________________________________________________________________________\n",
      "embedding_4 (Embedding)         (None, 1, 2)         10          event_type_1[0][0]               \n",
      "__________________________________________________________________________________________________\n",
      "embedding_5 (Embedding)         (None, 1, 2)         10          event_name_2[0][0]               \n",
      "__________________________________________________________________________________________________\n",
      "embedding_6 (Embedding)         (None, 1, 2)         10          event_type_2[0][0]               \n",
      "__________________________________________________________________________________________________\n",
      "flatten_7 (Flatten)             (None, 30)           0           embedding_7[0][0]                \n",
      "__________________________________________________________________________________________________\n",
      "embedding_8 (Embedding)         (None, 1, 2)         14          dept_id[0][0]                    \n",
      "__________________________________________________________________________________________________\n",
      "embedding_9 (Embedding)         (None, 1, 2)         20          store_id[0][0]                   \n",
      "__________________________________________________________________________________________________\n",
      "dense (Dense)                   (None, 100)          1000        dense1[0][0]                     \n",
      "__________________________________________________________________________________________________\n",
      "flatten (Flatten)               (None, 2)            0           embedding[0][0]                  \n",
      "__________________________________________________________________________________________________\n",
      "flatten_1 (Flatten)             (None, 2)            0           embedding_1[0][0]                \n",
      "__________________________________________________________________________________________________\n",
      "flatten_2 (Flatten)             (None, 2)            0           embedding_2[0][0]                \n",
      "__________________________________________________________________________________________________\n",
      "flatten_3 (Flatten)             (None, 5)            0           embedding_3[0][0]                \n",
      "__________________________________________________________________________________________________\n",
      "flatten_4 (Flatten)             (None, 2)            0           embedding_4[0][0]                \n",
      "__________________________________________________________________________________________________\n",
      "flatten_5 (Flatten)             (None, 2)            0           embedding_5[0][0]                \n",
      "__________________________________________________________________________________________________\n",
      "flatten_6 (Flatten)             (None, 2)            0           embedding_6[0][0]                \n",
      "__________________________________________________________________________________________________\n",
      "dropout (Dropout)               (None, 30)           0           flatten_7[0][0]                  \n",
      "__________________________________________________________________________________________________\n",
      "flatten_8 (Flatten)             (None, 2)            0           embedding_8[0][0]                \n",
      "__________________________________________________________________________________________________\n",
      "flatten_9 (Flatten)             (None, 2)            0           embedding_9[0][0]                \n",
      "__________________________________________________________________________________________________\n",
      "concatenate (Concatenate)       (None, 151)          0           dense[0][0]                      \n",
      "                                                                 flatten[0][0]                    \n",
      "                                                                 flatten_1[0][0]                  \n",
      "                                                                 flatten_2[0][0]                  \n",
      "                                                                 flatten_3[0][0]                  \n",
      "                                                                 flatten_4[0][0]                  \n",
      "                                                                 flatten_5[0][0]                  \n",
      "                                                                 flatten_6[0][0]                  \n",
      "                                                                 dropout[0][0]                    \n",
      "                                                                 flatten_8[0][0]                  \n",
      "                                                                 flatten_9[0][0]                  \n",
      "__________________________________________________________________________________________________\n",
      "dense_1 (Dense)                 (None, 150)          22800       concatenate[0][0]                \n",
      "__________________________________________________________________________________________________\n",
      "dropout_1 (Dropout)             (None, 150)          0           dense_1[0][0]                    \n",
      "__________________________________________________________________________________________________\n",
      "dense_2 (Dense)                 (None, 20)           3020        dropout_1[0][0]                  \n",
      "__________________________________________________________________________________________________\n",
      "output (Dense)                  (None, 1)            21          dense_2[0][0]                    \n",
      "==================================================================================================\n",
      "Total params: 118,580\n",
      "Trainable params: 118,580\n",
      "Non-trainable params: 0\n",
      "__________________________________________________________________________________________________\n"
     ]
    }
   ],
   "source": [
    "model.summary()"
   ]
  },
  {
   "cell_type": "code",
   "execution_count": 14,
   "metadata": {},
   "outputs": [
    {
     "name": "stdout",
     "output_type": "stream",
     "text": [
      "Train on 51726285 samples, validate on 5747365 samples\n",
      "WARNING:tensorflow:From /opt/conda/envs/Python-3.6/lib/python3.6/site-packages/tensorflow/python/ops/math_ops.py:3066: to_int32 (from tensorflow.python.ops.math_ops) is deprecated and will be removed in a future version.\n",
      "Instructions for updating:\n",
      "Use tf.cast instead.\n",
      "Epoch 1/10\n",
      "51726285/51726285 [==============================] - 360s 7us/sample - loss: 6.4501 - mean_squared_error: 6.4501 - val_loss: 5.6012 - val_mean_squared_error: 5.6012\n",
      "Epoch 2/10\n",
      "51726285/51726285 [==============================] - 371s 7us/sample - loss: 6.1355 - mean_squared_error: 6.1356 - val_loss: 5.5688 - val_mean_squared_error: 5.5688\n",
      "Epoch 3/10\n",
      "51726285/51726285 [==============================] - 355s 7us/sample - loss: 6.0214 - mean_squared_error: 6.0214 - val_loss: 5.4933 - val_mean_squared_error: 5.4933\n",
      "Epoch 4/10\n",
      "51726285/51726285 [==============================] - 373s 7us/sample - loss: 5.9375 - mean_squared_error: 5.9375 - val_loss: 5.5580 - val_mean_squared_error: 5.5580\n",
      "Epoch 5/10\n",
      "51726285/51726285 [==============================] - 360s 7us/sample - loss: 5.8838 - mean_squared_error: 5.8838 - val_loss: 5.4402 - val_mean_squared_error: 5.4402\n",
      "Epoch 6/10\n",
      "51726285/51726285 [==============================] - 365s 7us/sample - loss: 5.8536 - mean_squared_error: 5.8536 - val_loss: 5.4978 - val_mean_squared_error: 5.4978\n",
      "Epoch 7/10\n",
      "51726285/51726285 [==============================] - 371s 7us/sample - loss: 5.8316 - mean_squared_error: 5.8316 - val_loss: 5.6195 - val_mean_squared_error: 5.6195\n",
      "Epoch 8/10\n",
      "51726285/51726285 [==============================] - 354s 7us/sample - loss: 5.8148 - mean_squared_error: 5.8148 - val_loss: 5.6429 - val_mean_squared_error: 5.6429\n",
      "Epoch 9/10\n",
      "51726285/51726285 [==============================] - 373s 7us/sample - loss: 5.8070 - mean_squared_error: 5.8070 - val_loss: 5.5269 - val_mean_squared_error: 5.5269\n",
      "Epoch 10/10\n",
      "51726285/51726285 [==============================] - 365s 7us/sample - loss: 5.7899 - mean_squared_error: 5.7899 - val_loss: 5.4865 - val_mean_squared_error: 5.4865\n"
     ]
    }
   ],
   "source": [
    "model.compile(loss=keras.losses.mean_squared_error,\n",
    "              optimizer=\"rmsprop\",\n",
    "              metrics=['mse'])\n",
    "\n",
    "history = model.fit(X_train, \n",
    "                    y_train,\n",
    "                    batch_size=4096,\n",
    "                    epochs=10,\n",
    "                    validation_split=0.1)"
   ]
  },
  {
   "cell_type": "code",
   "execution_count": 15,
   "metadata": {},
   "outputs": [
    {
     "data": {
      "image/png": "[encoded data removed]",
      "text/plain": [
       "<Figure size 432x288 with 1 Axes>"
      ]
     },
     "metadata": {
      "needs_background": "light"
     },
     "output_type": "display_data"
    }
   ],
   "source": [
    "plt.plot(history.history['loss'])\n",
    "plt.plot(history.history['val_loss'])\n",
    "plt.title('model loss')\n",
    "plt.ylabel('loss')\n",
    "plt.xlabel('epoch')\n",
    "plt.legend(['train', 'valid'], loc='upper left')\n",
    "plt.show()"
   ]
  },
  {
   "cell_type": "code",
   "execution_count": null,
   "metadata": {},
   "outputs": [],
   "source": [
    "model.save('model_train.h5')"
   ]
  },
  {
   "cell_type": "code",
   "execution_count": 17,
   "metadata": {},
   "outputs": [],
   "source": [
    "x_val[numerical_features] = MinMaxScaler().fit_transform(x_val[numerical_features])\n",
    "x_val.fillna(0, inplace = True)"
   ]
  },
  {
   "cell_type": "code",
   "execution_count": 18,
   "metadata": {},
   "outputs": [],
   "source": [
    "X_test = make_Xy(x_val, return_y = False)\n",
    "pred = model.predict(X_test)"
   ]
  },
  {
   "cell_type": "code",
   "execution_count": 19,
   "metadata": {},
   "outputs": [],
   "source": [
    "def create_kaggle_submission_file(test):\n",
    "    predictions = test[['id', 'date', 'demand']]\n",
    "    predictions = pd.pivot(predictions, index = 'id', columns = 'date', values = 'demand').reset_index()\n",
    "    predictions.columns = ['id'] + ['F' + str(i + 1) for i in range(28)]\n",
    "    \n",
    "    submission = pd.read_csv('/project_data/data_asset/sample_submission.csv')\n",
    "    evaluation_rows = [row for row in submission['id'] if 'evaluation' in row] \n",
    "    evaluation = submission[submission['id'].isin(evaluation_rows)]\n",
    "\n",
    "    validation = submission[['id']].merge(predictions, on = 'id')\n",
    "    final = pd.concat([validation, evaluation])\n",
    "    return final"
   ]
  },
  {
   "cell_type": "code",
   "execution_count": 20,
   "metadata": {},
   "outputs": [],
   "source": [
    "x_val['demand'] = pred\n",
    "kaggle_submission = create_kaggle_submission_file(x_val)"
   ]
  },
  {
   "cell_type": "code",
   "execution_count": 21,
   "metadata": {},
   "outputs": [],
   "source": [
    "sales_train_validation = pd.read_csv('/project_data/data_asset/sales_train_validation.csv')\n",
    "prices = pd.read_csv('/project_data/data_asset/sell_prices.csv')\n",
    "calendar = pd.read_csv('/project_data/data_asset/calendar.csv')\n",
    "\n",
    "train_fold_df = sales_train_validation.iloc[:, :-28]\n",
    "valid_fold_df = sales_train_validation.iloc[:, -28:]"
   ]
  },
  {
   "cell_type": "code",
   "execution_count": 22,
   "metadata": {},
   "outputs": [],
   "source": [
    "validation_rows = [row for row in kaggle_submission['id'] if 'validation' in row] \n",
    "kaggle_submission = kaggle_submission[kaggle_submission['id'].isin(validation_rows)]\n",
    "valid_preds = kaggle_submission.iloc[:, 1:]\n",
    "valid_preds.columns = valid_fold_df.columns"
   ]
  },
  {
   "cell_type": "code",
   "execution_count": 24,
   "metadata": {},
   "outputs": [
    {
     "name": "stdout",
     "output_type": "stream",
     "text": [
      "Collecting tqdm\n",
      "\u001b[?25l  Downloading https://files.pythonhosted.org/packages/47/55/fd9170ba08a1a64a18a7f8a18f088037316f2a41be04d2fe6ece5a653e8f/tqdm-4.43.0-py2.py3-none-any.whl (59kB)\n",
      "\u001b[K     |################################| 61kB 636kB/s eta 0:00:011\n",
      "\u001b[?25hInstalling collected packages: tqdm\n",
      "  Found existing installation: tqdm 4.31.1\n",
      "    Uninstalling tqdm-4.31.1:\n",
      "      Successfully uninstalled tqdm-4.31.1\n",
      "Successfully installed tqdm-4.43.0\n"
     ]
    }
   ],
   "source": [
    "!pip install tqdm -U"
   ]
  },
  {
   "cell_type": "code",
   "execution_count": 25,
   "metadata": {},
   "outputs": [],
   "source": [
    "from metrics import WRMSSEEvaluator"
   ]
  },
  {
   "cell_type": "code",
   "execution_count": 26,
   "metadata": {},
   "outputs": [
    {
     "data": {
      "application/vnd.jupyter.widget-view+json": {
       "model_id": "25a40665b56b46cf9570f00154b9b199",
       "version_major": 2,
       "version_minor": 0
      },
      "text/plain": [
       "HBox(children=(FloatProgress(value=0.0, max=12.0), HTML(value='')))"
      ]
     },
     "metadata": {},
     "output_type": "display_data"
    },
    {
     "name": "stdout",
     "output_type": "stream",
     "text": [
      "\n"
     ]
    },
    {
     "data": {
      "text/plain": [
       "9.167480153859637"
      ]
     },
     "execution_count": 26,
     "metadata": {},
     "output_type": "execute_result"
    }
   ],
   "source": [
    "evaluator = WRMSSEEvaluator(train_fold_df, valid_fold_df, calendar, prices)\n",
    "evaluator.score(valid_preds)"
   ]
  },
  {
   "cell_type": "code",
   "execution_count": null,
   "metadata": {},
   "outputs": [],
   "source": []
  }
 ],
 "metadata": {
  "kernelspec": {
   "display_name": "Python 3.6",
   "language": "python",
   "name": "python3"
  },
  "language_info": {
   "codemirror_mode": {
    "name": "ipython",
    "version": 3
   },
   "file_extension": ".py",
   "mimetype": "text/x-python",
   "name": "python",
   "nbconvert_exporter": "python",
   "pygments_lexer": "ipython3",
   "version": "3.6.8"
  }
 },
 "nbformat": 4,
 "nbformat_minor": 4
}
