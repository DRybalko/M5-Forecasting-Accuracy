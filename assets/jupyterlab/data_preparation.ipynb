{
 "cells": [
  {
   "cell_type": "code",
   "execution_count": 1,
   "metadata": {},
   "outputs": [],
   "source": [
    "import pandas as pd\n",
    "import gc"
   ]
  },
  {
   "cell_type": "code",
   "execution_count": 2,
   "metadata": {},
   "outputs": [],
   "source": [
    "sales_train_validation = pd.read_csv('/project_data/data_asset/sales_train_validation.csv')\n",
    "calendar = pd.read_csv('/project_data/data_asset/calendar.csv')\n",
    "sell_prices = pd.read_csv('/project_data/data_asset/sell_prices.csv')\n",
    "submission = pd.read_csv('/project_data/data_asset/sample_submission.csv')"
   ]
  },
  {
   "cell_type": "code",
   "execution_count": 3,
   "metadata": {},
   "outputs": [
    {
     "data": {
      "text/plain": [
       "7"
      ]
     },
     "execution_count": 3,
     "metadata": {},
     "output_type": "execute_result"
    }
   ],
   "source": [
    "validation_rows = [row for row in submission['id'] if 'validation' in row]\n",
    "evaluation_rows = [row for row in submission['id'] if 'evaluation' in row]\n",
    "submission_validation = submission.loc[submission['id'].isin(validation_rows)]\n",
    "submission_evaluation = submission.loc[submission['id'].isin(evaluation_rows)]\n",
    "\n",
    "submission_validation.columns = ['id', 'd_1914', 'd_1915', 'd_1916', 'd_1917', 'd_1918', 'd_1919', 'd_1920', 'd_1921',\n",
    "                                 'd_1922', 'd_1923', 'd_1924', 'd_1925', 'd_1926', 'd_1927', 'd_1928', 'd_1929', 'd_1930', \n",
    "                                 'd_1931', 'd_1932', 'd_1933', 'd_1934', 'd_1935', 'd_1936', 'd_1937', 'd_1938', 'd_1939', \n",
    "                                 'd_1940', 'd_1941']\n",
    "submission_evaluation.columns = ['id', 'd_1942', 'd_1943', 'd_1944', 'd_1945', 'd_1946', 'd_1947', 'd_1948', 'd_1949',\n",
    "                                 'd_1950', 'd_1951', 'd_1952', 'd_1953', 'd_1954', 'd_1955', 'd_1956', 'd_1957', 'd_1958', \n",
    "                                 'd_1959', 'd_1960', 'd_1961', 'd_1962', 'd_1963', 'd_1964', 'd_1965', 'd_1966', 'd_1967', \n",
    "                                 'd_1968', 'd_1969']\n",
    "\n",
    "del submission\n",
    "gc.collect()"
   ]
  },
  {
   "cell_type": "code",
   "execution_count": 4,
   "metadata": {},
   "outputs": [],
   "source": [
    "products = sales_train_validation[['id', 'item_id', 'dept_id', 'cat_id', 'store_id', 'state_id']].drop_duplicates()"
   ]
  },
  {
   "cell_type": "code",
   "execution_count": 5,
   "metadata": {},
   "outputs": [
    {
     "data": {
      "text/plain": [
       "42"
      ]
     },
     "execution_count": 5,
     "metadata": {},
     "output_type": "execute_result"
    }
   ],
   "source": [
    "submission_validation = submission_validation.merge(products, how = 'right', on = 'id')\n",
    "submission_evaluation = submission_evaluation.merge(products, how = 'right', on = 'id')\n",
    "gc.collect()"
   ]
  },
  {
   "cell_type": "code",
   "execution_count": 6,
   "metadata": {},
   "outputs": [],
   "source": [
    "def melt_sales(df):\n",
    "    return pd.melt(frame = df, \n",
    "                   id_vars = ['id', 'item_id', 'dept_id', 'cat_id', 'store_id', 'state_id'], \n",
    "                   var_name = 'day', \n",
    "                   value_name = 'demand')"
   ]
  },
  {
   "cell_type": "code",
   "execution_count": 7,
   "metadata": {},
   "outputs": [
    {
     "data": {
      "text/plain": [
       "126"
      ]
     },
     "execution_count": 7,
     "metadata": {},
     "output_type": "execute_result"
    }
   ],
   "source": [
    "submission_validation_melted = melt_sales(submission_validation)\n",
    "submission_evaluation_melted = melt_sales(submission_evaluation)\n",
    "gc.collect()"
   ]
  },
  {
   "cell_type": "code",
   "execution_count": 8,
   "metadata": {},
   "outputs": [
    {
     "name": "stdout",
     "output_type": "stream",
     "text": [
      "Melted sales train validation has 58327370 rows and 8 columns\n"
     ]
    },
    {
     "data": {
      "text/plain": [
       "70"
      ]
     },
     "execution_count": 8,
     "metadata": {},
     "output_type": "execute_result"
    }
   ],
   "source": [
    "sales_train_melted = melt_sales(sales_train_validation)\n",
    "print('Melted sales train validation has {} rows and {} columns'.format(sales_train_melted.shape[0], \n",
    "                                                                        sales_train_melted.shape[1]))\n",
    "del sales_train_validation\n",
    "gc.collect()"
   ]
  },
  {
   "cell_type": "code",
   "execution_count": null,
   "metadata": {},
   "outputs": [],
   "source": [
    "# Concatenate train, validation and test sets into one dataframe\n",
    "sales_train_melted['partition'] = 'train'\n",
    "submission_validation_melted['partition'] = 'validation'\n",
    "submission_evaluation_melted['partition'] = 'evaluation'\n",
    "full_data_melted = pd.concat([sales_train_melted, submission_validation_melted, submission_evaluation_melted], axis = 0)"
   ]
  },
  {
   "cell_type": "code",
   "execution_count": null,
   "metadata": {},
   "outputs": [],
   "source": [
    "def merge_with_calendar(df, calendar):\n",
    "    df_with_cal = pd.merge(df, calendar, how = \"left\", left_on = [\"day\"], right_on = [\"d\"])\n",
    "    df_with_cal.drop(['d', 'day'], inplace = True, axis = 1)\n",
    "    return df_with_cal"
   ]
  },
  {
   "cell_type": "code",
   "execution_count": null,
   "metadata": {},
   "outputs": [],
   "source": [
    "# Merge sales data with calendar features\n",
    "sales_train_melted = merge_with_calendar(sales_train_melted, calendar)\n",
    "submission_validation_melted = merge_with_calendar(submission_validation_melted, calendar)\n",
    "gc.collect()"
   ]
  },
  {
   "cell_type": "code",
   "execution_count": null,
   "metadata": {},
   "outputs": [],
   "source": [
    "def merge_with_prices(df, sell_prices):\n",
    "    df_with_prices = df.merge(sell_prices, on = ['store_id', 'item_id', 'wm_yr_wk'], how = 'left')\n",
    "    return df_with_prices"
   ]
  },
  {
   "cell_type": "code",
   "execution_count": null,
   "metadata": {},
   "outputs": [],
   "source": [
    "sales_train_melted = merge_with_prices(sales_train_melted, sell_prices)\n",
    "submission_validation_melted = merge_with_prices(submission_validation_melted, sell_prices)\n",
    "gc.collect()"
   ]
  }
 ],
 "metadata": {
  "kernelspec": {
   "display_name": "Python 3.6",
   "language": "python",
   "name": "python3"
  },
  "language_info": {
   "codemirror_mode": {
    "name": "ipython",
    "version": 3
   },
   "file_extension": ".py",
   "mimetype": "text/x-python",
   "name": "python",
   "nbconvert_exporter": "python",
   "pygments_lexer": "ipython3",
   "version": "3.6.8"
  }
 },
 "nbformat": 4,
 "nbformat_minor": 4
}
